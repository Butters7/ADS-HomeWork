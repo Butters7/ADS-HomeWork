{
 "cells": [
  {
   "cell_type": "code",
   "execution_count": 2,
   "metadata": {
    "collapsed": true
   },
   "outputs": [],
   "source": [
    "from wand.image import Image as WImage\n",
    "from typing import List"
   ]
  },
  {
   "cell_type": "markdown",
   "metadata": {},
   "source": [
    "# Лабораторная работа 2. Методы поиска\n",
    "**Цель работы**: ознакомление с алгоритмами поиска в линейных и нелинейных структурах и оценкой эффективности алгоритмов."
   ]
  },
  {
   "cell_type": "markdown",
   "metadata": {},
   "source": [
    "## Поиск по последовательности\n",
    "### Бинарный поиск\n",
    "Бинарный поиск - это алгоритм поиска элемента в заранее упорядоченной по возростанию последовательности. На каждом этапе поиска происходит отсечение непрегодных элементов в зависимости от того больше ли искомый элемент серединного элемента или меньше(при условии что они не равны). За счет такого алгоритма достигается максимальная скорость поиска нужных элементов в очень больших последовательностях.\n",
    "  - В худшем случае: $O(log(n))$\n",
    "  - В лучшем случае: $O(1)$\n",
    "  - В среднем: $O(log(n))$"
   ]
  },
  {
   "cell_type": "markdown",
   "metadata": {},
   "source": [
    "### Блок-схема"
   ]
  },
  {
   "cell_type": "code",
   "execution_count": 30,
   "metadata": {},
   "outputs": [
    {
     "data": {
      "image/png": "[encoded data removed]",
      "text/plain": [
       "<wand.image.Image: d4e5ec2 'PDF' (338x533)>"
      ]
     },
     "execution_count": 30,
     "metadata": {},
     "output_type": "execute_result"
    }
   ],
   "source": [
    "from wand.image import Image as WImage\n",
    "img = WImage(filename='./diagram.pdf')\n",
    "img"
   ]
  },
  {
   "cell_type": "markdown",
   "metadata": {},
   "source": [
    "### Псевдокод\n",
    "\n",
    "```\n",
    "int binary_search(int *X, int a) {\n",
    "    size = sizeof(X)/sizeof(X[0])\n",
    "    int mid_idx, left_idx, right_idx = nullptr, 0, size - 1\n",
    "    while (true) {\n",
    "        if (left_idx > right_idx) {\n",
    "            return nullptr;\n",
    "        }\n",
    "        mid_idx = left_idx + (right_idx - left_idx) / 2\n",
    "        if (X[mid_idx] < a) {\n",
    "            left_idx = mid_idx + 1;\n",
    "        }\n",
    "        if (X[mid_idx] > a) {\n",
    "            right_idx = mid_idx - 1;\n",
    "        }\n",
    "        if (X[mid_idxmi] == a) {\n",
    "            return X[mid_idx]\n",
    "        }\n",
    "    }\n",
    "}\n",
    "```"
   ]
  },
  {
   "cell_type": "markdown",
   "metadata": {},
   "source": [
    "### Особенности\n",
    "\n",
    "Достоинства алгоритма:\n",
    "\n",
    "    -- простота реализации\n",
    "    -- очень высокая скорость поиска в больших последовательностях\n",
    "\n",
    "Недостатки:\n",
    "\n",
    "    -- подходит только для поиска по упорядоченной по возростанию последовательности"
   ]
  },
  {
   "cell_type": "markdown",
   "metadata": {},
   "source": [
    "### Реализация"
   ]
  },
  {
   "cell_type": "code",
   "execution_count": 31,
   "metadata": {},
   "outputs": [],
   "source": [
    "def binary_search(X: List, a):\n",
    "    mid_idx, left_idx, right_idx = None, 0, len(X) - 1\n",
    "    while True:\n",
    "        if left_idx > right_idx:\n",
    "            return None\n",
    "        mid_idx = left_idx + (right_idx - left_idx) // 2\n",
    "        if X[mid_idx] < a:\n",
    "            left_idx = mid_idx + 1\n",
    "        if X[mid_idx] > a:\n",
    "            right_idx = mid_idx - 1\n",
    "        if X[mid_idx] == a:\n",
    "            return X[mid_idx]\n"
   ]
  },
  {
   "cell_type": "markdown",
   "metadata": {},
   "source": [
    "### Тестирование"
   ]
  },
  {
   "cell_type": "code",
   "execution_count": 32,
   "metadata": {},
   "outputs": [],
   "source": [
    "assert binary_search([1, 2, 3, 4, 5], 4) == 4, 'Ошибка при нахождении входящего значения'\n",
    "\n",
    "assert not binary_search([1, 2, 3, 4, 5], 0), 'Ошибка при не нахождении не входящего значения'"
   ]
  },
  {
   "cell_type": "code",
   "execution_count": 33,
   "metadata": {},
   "outputs": [
    {
     "name": "stdout",
     "output_type": "stream",
     "text": [
      "{100000: '00', 1000000: '00', 10000000: '00', 100000000: '00.014561'}\n"
     ]
    }
   ],
   "source": [
    "from datetime import datetime\n",
    "from random import randint\n",
    "import time\n",
    "\n",
    "sizes = [100_000, 1_000_000, 10_000_000, 100_000_000]\n",
    "\n",
    "relation = {}\n",
    "\n",
    "for size in sizes:\n",
    "    nums = list(range(size))\n",
    "    n = (size // 2) + 2\n",
    "    start_time = datetime.now()\n",
    "    a = binary_search(nums, n)\n",
    "    delta = datetime.now() - start_time\n",
    "    relation[size] = str(delta).split(':')[2]\n",
    "print(relation)"
   ]
  },
  {
   "cell_type": "markdown",
   "metadata": {},
   "source": [
    "Вывод: бинарный поиск очень быстрый, время поиска элемента занимает наносекунды!"
   ]
  },
  {
   "cell_type": "markdown",
   "metadata": {},
   "source": [
    "## Поиск подстроки в строке\n",
    "### Алгоритм Бойера — Мура"
   ]
  },
  {
   "cell_type": "markdown",
   "source": [
    "### Блок-схема"
   ],
   "metadata": {
    "collapsed": false
   }
  },
  {
   "cell_type": "markdown",
   "metadata": {},
   "source": [
    "### Псевдокод\n",
    "\n",
    "```\n",
    "\n",
    "```"
   ]
  },
  {
   "cell_type": "markdown",
   "source": [
    "### Особенности"
   ],
   "metadata": {
    "collapsed": false
   }
  },
  {
   "cell_type": "markdown",
   "source": [
    "### Реализация"
   ],
   "metadata": {
    "collapsed": false
   }
  },
  {
   "cell_type": "code",
   "execution_count": null,
   "metadata": {},
   "outputs": [],
   "source": []
  },
  {
   "cell_type": "markdown",
   "source": [
    "### Тестирование"
   ],
   "metadata": {
    "collapsed": false
   }
  },
  {
   "cell_type": "code",
   "execution_count": null,
   "metadata": {},
   "outputs": [],
   "source": [
    "# 1. Найти все вхождения имени главного героя в вашем любимом литературном произведении."
   ]
  }
 ],
 "metadata": {
  "kernelspec": {
   "display_name": "Python 3 (ipykernel)",
   "language": "python",
   "name": "python3"
  },
  "language_info": {
   "codemirror_mode": {
    "name": "ipython",
    "version": 3
   },
   "file_extension": ".py",
   "mimetype": "text/x-python",
   "name": "python",
   "nbconvert_exporter": "python",
   "pygments_lexer": "ipython3",
   "version": "3.11.1"
  }
 },
 "nbformat": 4,
 "nbformat_minor": 1
}
