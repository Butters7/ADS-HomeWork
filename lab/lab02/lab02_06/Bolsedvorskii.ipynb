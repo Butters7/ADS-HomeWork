{
 "cells": [
  {
   "cell_type": "code",
   "execution_count": 1,
   "metadata": {
    "collapsed": true
   },
   "outputs": [
    {
     "ename": "ModuleNotFoundError",
     "evalue": "No module named 'wand'",
     "output_type": "error",
     "traceback": [
      "\u001B[1;31m---------------------------------------------------------------------------\u001B[0m",
      "\u001B[1;31mModuleNotFoundError\u001B[0m                       Traceback (most recent call last)",
      "Cell \u001B[1;32mIn[1], line 1\u001B[0m\n\u001B[1;32m----> 1\u001B[0m \u001B[38;5;28;01mfrom\u001B[39;00m \u001B[38;5;21;01mwand\u001B[39;00m\u001B[38;5;21;01m.\u001B[39;00m\u001B[38;5;21;01mimage\u001B[39;00m \u001B[38;5;28;01mimport\u001B[39;00m Image \u001B[38;5;28;01mas\u001B[39;00m WImage\n\u001B[0;32m      2\u001B[0m \u001B[38;5;28;01mfrom\u001B[39;00m \u001B[38;5;21;01mtyping\u001B[39;00m \u001B[38;5;28;01mimport\u001B[39;00m List\n",
      "\u001B[1;31mModuleNotFoundError\u001B[0m: No module named 'wand'"
     ]
    }
   ],
   "source": [
    "from wand.image import Image as WImage\n",
    "from typing import List"
   ]
  },
  {
   "cell_type": "markdown",
   "source": [
    "# Лабораторная работа 2. Методы поиска\n",
    "**Цель работы**: ознакомление с алгоритмами поиска в линейных и нелинейных структурах и оценкой эффективности алгоритмов."
   ],
   "metadata": {
    "collapsed": false
   }
  },
  {
   "cell_type": "code",
   "execution_count": 27,
   "outputs": [],
   "source": [
    "def binary_search(nums: List, desired_value):\n",
    "    i = int(len(nums)/2)\n",
    "    if nums[i] == desired_value:\n",
    "        return nums[i]\n",
    "    elif i == 0:\n",
    "        return None\n",
    "    elif nums[i] < desired_value:\n",
    "        buf = nums[i:len(nums)]\n",
    "        return binary_search(buf, desired_value)\n",
    "    elif nums[i] > desired_value:\n",
    "        buf = nums[0:i]\n",
    "        return binary_search(buf, desired_value)"
   ],
   "metadata": {
    "collapsed": false
   }
  },
  {
   "cell_type": "code",
   "execution_count": 30,
   "outputs": [
    {
     "name": "stdout",
     "output_type": "stream",
     "text": [
      "7\n",
      "1\n",
      "None\n"
     ]
    }
   ],
   "source": [
    "arr = list(range(10))\n",
    "size = len(arr)\n",
    "print(binary_search(arr, 7))\n",
    "print(binary_search(arr, 1))\n",
    "print(binary_search(arr, 111))"
   ],
   "metadata": {
    "collapsed": false
   }
  },
  {
   "cell_type": "code",
   "execution_count": null,
   "outputs": [],
   "source": [],
   "metadata": {
    "collapsed": false
   }
  }
 ],
 "metadata": {
  "kernelspec": {
   "display_name": "Python 3",
   "language": "python",
   "name": "python3"
  },
  "language_info": {
   "codemirror_mode": {
    "name": "ipython",
    "version": 2
   },
   "file_extension": ".py",
   "mimetype": "text/x-python",
   "name": "python",
   "nbconvert_exporter": "python",
   "pygments_lexer": "ipython2",
   "version": "2.7.6"
  }
 },
 "nbformat": 4,
 "nbformat_minor": 0
}
