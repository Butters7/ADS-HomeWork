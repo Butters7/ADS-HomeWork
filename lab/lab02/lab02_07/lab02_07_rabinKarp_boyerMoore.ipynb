{
 "cells": [
  {
   "cell_type": "markdown",
   "id": "731ee486",
   "metadata": {},
   "source": [
    "# Бусаров 7 вариант. Поиск подстроки в строке\n",
    "#### - Алгоритм Рабина-Карпа\n",
    "#### - Алгоритм Бойера-Мура"
   ]
  },
  {
   "cell_type": "code",
   "execution_count": 1,
   "id": "a8be70c8",
   "metadata": {
    "slideshow": {
     "slide_type": "skip"
    }
   },
   "outputs": [],
   "source": [
    "from wand.image import Image as WImage"
   ]
  },
  {
   "cell_type": "markdown",
   "id": "4b4088a3",
   "metadata": {},
   "source": [
    "# Алгоритм Рабина-Карпа"
   ]
  },
  {
   "cell_type": "markdown",
   "id": "389d0127",
   "metadata": {},
   "source": [
    "## Описание\n",
    "Алгоритм достаточно просто устроен. Первоначально необходимо взять хэш от шаблона. Проходясь по тексту вычислять хэши кусков равных длине шаблона и сравнивать хэши. Если хэши оказались равны, то сравнивать слова посимвольно\n",
    "\n",
    "## Достоинтсва и недостатки\n",
    "**Достоинства:** алгоритм прост в освоении и написании, быстро находит слово в слове, незаивисимо от длины, так как вычисляется хэш\n",
    "**Недостатки:** не очень быстрый на разнообразном большом тексте, меньше используется "
   ]
  },
  {
   "cell_type": "markdown",
   "id": "cb6b5ee1",
   "metadata": {},
   "source": [
    "## Реализация"
   ]
  },
  {
   "cell_type": "code",
   "execution_count": 2,
   "id": "bfebf28a",
   "metadata": {
    "slideshow": {
     "slide_type": "-"
    }
   },
   "outputs": [
    {
     "name": "stdout",
     "output_type": "stream",
     "text": [
      "finded words: 2\n",
      "[0, 7]\n"
     ]
    }
   ],
   "source": [
    "def rabinKarp(big_str: str, small_str: str):\n",
    "    indexes = []\n",
    "    n = len(big_str)\n",
    "    m = len(small_str)\n",
    "    hsub = hash(small_str)\n",
    "    hs = hash(big_str[0:m])\n",
    "    hashed_str = ''\n",
    "    for i in range(0, n - m + 1):\n",
    "        hs = hash(big_str[i:i + m])\n",
    "        if hs == hsub:\n",
    "            hashed_str = big_str[i:i+m]\n",
    "            if big_str[i:i+m] == small_str:\n",
    "                indexes.append(i)\n",
    "        hs = hash(big_str[i:i+m])\n",
    "    \n",
    "    print(f'finded words: {len(indexes)}')\n",
    "    return indexes\n",
    "\n",
    "\n",
    "print(rabinKarp('potter potter pott', 'potter'))"
   ]
  },
  {
   "cell_type": "markdown",
   "id": "0bcaceee",
   "metadata": {
    "slideshow": {
     "slide_type": "-"
    }
   },
   "source": [
    "## Псевдокод алгоритма Рабина-Карпа\n",
    "    std::vector<int> rabinKarp(std::string big_str, std::string small_str) {\n",
    "        std::vector<int> indexes;\n",
    "        int n = big_str.length();\n",
    "        int m = small_str.length();\n",
    "        int hsub = std::hash<std::string>{}(small_str);\n",
    "        int hs = std::hash<std::string>{}(big_str.substr(0, m));\n",
    "        std::string hashed_str = \"\";\n",
    "        for (int i = 0; i < n - m + 1; i++) {\n",
    "            hs = std::hash<std::string>{}(big_str.substr(i, m));\n",
    "            if (hs == hsub) {\n",
    "                hashed_str = big_str.substr(i, m);\n",
    "                if (big_str.substr(i, m) == small_str) {\n",
    "                    indexes.push_back(i);\n",
    "                }\n",
    "            }\n",
    "            hs = std::hash<std::string>{}(big_str.substr(i, m));\n",
    "        }\n",
    "        std::cout << \"finded words: \" << indexes.size() << std::endl;\n",
    "        return indexes;\n",
    "    }\n",
    "\n"
   ]
  },
  {
   "cell_type": "markdown",
   "id": "51c434ba",
   "metadata": {},
   "source": [
    "## Блок-схема алгоритма Рабина-Карпа"
   ]
  },
  {
   "cell_type": "code",
   "execution_count": 3,
   "id": "3ec1cc42",
   "metadata": {},
   "outputs": [
    {
     "data": {
      "image/png": "[encoded data removed]",
      "text/plain": [
       "<wand.image.Image: 02d2442 'PNG' (700x990)>"
      ]
     },
     "execution_count": 3,
     "metadata": {},
     "output_type": "execute_result"
    }
   ],
   "source": [
    "img = WImage(filename='./img/rabinKarp.png')\n",
    "img"
   ]
  },
  {
   "cell_type": "markdown",
   "id": "d327cbbd",
   "metadata": {},
   "source": [
    "# Aлгоритм Бойера-Мура"
   ]
  },
  {
   "cell_type": "markdown",
   "id": "51f1be6d",
   "metadata": {},
   "source": [
    "## Описание\n",
    "Это уникальный алгоритм, который считается наиболее быстрым среди алгоритмов общего назначения, предназначенных для поиска подстроки в строке. Алгоритм проходит по шаблону с конца и испольузет раннее составленную таблицу смещений, чтобы перемещаться по тексту.\n",
    "\n",
    "Предварительно составляется таблица смещений шаблона. Начиная от предпоследнего символа формируется словарь с ключом буквой шаблона и значением - ее позицией с конца. Далее в процеесе прохождения по тексту, итератор смешается на указанное количество символов, согласно таблице.\n",
    "\n",
    "Алгоритм Бойера-Мура считается наиболее эффективным алгоритмом поиска шаблонов в стандартных приложениях и командах, таких как Ctrl+F в браузерах и текстовых редакторах.\n",
    "\n",
    "## Преимущества и недостатки\n",
    "**Преимущества:** широко распространен, является наиболее быстрых среди стандартных алгоритмов поиска\n",
    "\n",
    "**Недостатки:** требуются предварительные вычисления, но для недлинного шаблона, работает быстро"
   ]
  },
  {
   "cell_type": "markdown",
   "id": "01e9b0b0",
   "metadata": {},
   "source": [
    "## Реализация алгоритма Бойера-Мура"
   ]
  },
  {
   "cell_type": "code",
   "execution_count": 4,
   "id": "37134486",
   "metadata": {},
   "outputs": [],
   "source": [
    "def getTable(my_str : str):\n",
    "    M = len(my_str)\n",
    "    d = {}\n",
    "    i = 1\n",
    "    for char_i in range(M-2, -1, -1):\n",
    "        if my_str[char_i] not in d:\n",
    "            d[my_str[char_i]] = i\n",
    "        i += 1\n",
    "    if my_str[M-1] not in d:\n",
    "        d[my_str[M-1]] = M\n",
    "    d['***'] = M\n",
    "    return d\n",
    "\n",
    "\n",
    "def boyerMoore(input_str, find_str):\n",
    "    indexes = []\n",
    "    d = getTable(find_str)\n",
    "    M = len(find_str)\n",
    "    N = len(input_str)\n",
    "    i_find = M - 1\n",
    "    i_input = M - 1\n",
    "    i_reverse_input = 0\n",
    "    word_counter = 0\n",
    "    while i_input < N:\n",
    "        for i_reverse in range(0, M):\n",
    "            if find_str[i_find - i_reverse] != input_str[i_input - i_reverse_input]:\n",
    "                i_reverse_input = 0\n",
    "                if i_reverse == 0:\n",
    "                    i_input += d[input_str[i_input]] if d.get(input_str[i_input], False) else d['***']\n",
    "                else:\n",
    "                    i_input += d[find_str[i_find - i_reverse]]\n",
    "                break\n",
    "            i_reverse_input += 1\n",
    "            if i_reverse == M - 1:\n",
    "                indexes.append(i_input - M + 1)\n",
    "                i_reverse_input -= 1\n",
    "                word_counter += 1\n",
    "                break\n",
    "    print(f'finded words: {len(indexes)}')\n",
    "    return indexes"
   ]
  },
  {
   "cell_type": "markdown",
   "id": "d88ba7d4",
   "metadata": {},
   "source": [
    "## Псевдокод алгоритма Бойера-Мура\n",
    "    void getTable(string my_str) {\n",
    "        int M = my_str.length();\n",
    "        map<char, int> d;\n",
    "        int i = 1;\n",
    "        for (int char_i = M - 2; char_i >= 0; char_i--) {\n",
    "            if (d.find(my_str[char_i]) == d.end()) {\n",
    "                d[my_str[char_i]] = i;\n",
    "            }\n",
    "            i++;\n",
    "        }\n",
    "        if (d.find(my_str[M - 1]) == d.end()) {\n",
    "            d[my_str[M - 1]] = M;\n",
    "        }\n",
    "        d['***'] = M;\n",
    "        return d;\n",
    "    }\n",
    "\n",
    "    vector<int> boyerMoore(string input_str, string find_str) {\n",
    "        vector<int> indexes;\n",
    "        map<char, int> d = getTable(find_str);\n",
    "        int M = find_str.length();\n",
    "        int N = input_str.length();\n",
    "        int i_find = M - 1;\n",
    "        int i_input = M - 1;\n",
    "        int i_reverse_input = 0;\n",
    "        int word_counter = 0;\n",
    "        while (i_input < N) {\n",
    "            for (int i_reverse = 0; i_reverse < M; i_reverse++) {\n",
    "                if (find_str[i_find - i_reverse] != input_str[i_input - i_reverse_input]) {\n",
    "                    i_reverse_input = 0;\n",
    "                    if (i_reverse == 0) {\n",
    "                        if (d.find(input_str[i_input]) != d.end()) {\n",
    "                            i_input += d[input_str[i_input]];\n",
    "                        }\n",
    "                        else {\n",
    "                            i_input += d['***'];\n",
    "                        }\n",
    "                    }\n",
    "                    else {\n",
    "                        i_input += d[find_str[i_find - i_reverse]];\n",
    "                    }\n",
    "                    break;\n",
    "                }\n",
    "                i_reverse_input++;\n",
    "                if (i_reverse == M - 1) {\n",
    "                    indexes.push_back(i_input - M + 1);\n",
    "\n"
   ]
  },
  {
   "cell_type": "markdown",
   "id": "b3ae2213",
   "metadata": {},
   "source": [
    "## Блок-схема алгоритма Бойера-Мура"
   ]
  },
  {
   "cell_type": "code",
   "execution_count": 5,
   "id": "867f9a19",
   "metadata": {},
   "outputs": [
    {
     "data": {
      "image/png": "[encoded data removed]",
      "text/plain": [
       "<wand.image.Image: bb3651c 'PNG' (1690x1630)>"
      ]
     },
     "execution_count": 5,
     "metadata": {},
     "output_type": "execute_result"
    }
   ],
   "source": [
    "img = WImage(filename='./img/boyerMoore.png')\n",
    "img"
   ]
  },
  {
   "cell_type": "markdown",
   "id": "9c099330",
   "metadata": {},
   "source": [
    "# Тесты"
   ]
  },
  {
   "cell_type": "code",
   "execution_count": 6,
   "id": "f446e09f",
   "metadata": {},
   "outputs": [],
   "source": [
    "with open('STONE.txt', 'r') as file:\n",
    "    my_book = file.read()"
   ]
  },
  {
   "cell_type": "code",
   "execution_count": 7,
   "id": "230cf239",
   "metadata": {},
   "outputs": [
    {
     "name": "stdout",
     "output_type": "stream",
     "text": [
      "finded words: 113\n",
      "[6, 989, 1003, 1301, 1359, 1472, 5235, 5740, 5821, 9286, 10054, 10766, 11074, 11165, 17660, 17702, 18094, 18247, 19686, 20153, 25390, 25952, 26943, 45075, 49823, 55920, 61776, 61913, 73870, 74144, 76657, 77156, 77198, 84459, 84889, 97667, 97810, 98153, 98217, 98323, 98899, 99217, 103753, 117729, 119440, 119849, 120404, 122029, 122476, 134876, 137266, 139491, 149984, 153298, 154027, 154369, 170839, 170957, 170990, 172114, 172129, 193629, 194902, 195320, 195697, 195992, 196366, 196859, 198110, 210283, 212545, 214445, 214742, 215180, 215847, 217414, 233481, 234059, 234262, 236514, 257626, 261533, 263015, 297623, 315455, 316385, 316960, 317860, 341708, 345508, 346072, 346955, 346980, 347523, 359566, 365874, 366498, 368082, 369086, 370094, 380353, 380496, 381182, 382248, 408820, 410170, 410753, 414085, 415399, 416192, 434532, 438319, 438607]\n",
      "CPU times: user 94.7 ms, sys: 3.81 ms, total: 98.5 ms\n",
      "Wall time: 105 ms\n"
     ]
    }
   ],
   "source": [
    "%%time\n",
    "print(rabinKarp(my_book, 'Potter'))"
   ]
  },
  {
   "cell_type": "code",
   "execution_count": 8,
   "id": "9c474bd9",
   "metadata": {},
   "outputs": [
    {
     "name": "stdout",
     "output_type": "stream",
     "text": [
      "finded words: 113\n",
      "[6, 989, 1003, 1301, 1359, 1472, 5235, 5740, 5821, 9286, 10054, 10766, 11074, 11165, 17660, 17702, 18094, 18247, 19686, 20153, 25390, 25952, 26943, 45075, 49823, 55920, 61776, 61913, 73870, 74144, 76657, 77156, 77198, 84459, 84889, 97667, 97810, 98153, 98217, 98323, 98899, 99217, 103753, 117729, 119440, 119849, 120404, 122029, 122476, 134876, 137266, 139491, 149984, 153298, 154027, 154369, 170839, 170957, 170990, 172114, 172129, 193629, 194902, 195320, 195697, 195992, 196366, 196859, 198110, 210283, 212545, 214445, 214742, 215180, 215847, 217414, 233481, 234059, 234262, 236514, 257626, 261533, 263015, 297623, 315455, 316385, 316960, 317860, 341708, 345508, 346072, 346955, 346980, 347523, 359566, 365874, 366498, 368082, 369086, 370094, 380353, 380496, 381182, 382248, 408820, 410170, 410753, 414085, 415399, 416192, 434532, 438319, 438607]\n",
      "CPU times: user 23.7 ms, sys: 415 µs, total: 24.1 ms\n",
      "Wall time: 30.9 ms\n"
     ]
    }
   ],
   "source": [
    "%%time\n",
    "print(boyerMoore(my_book, 'Potter'))"
   ]
  },
  {
   "cell_type": "code",
   "execution_count": 9,
   "id": "4b2872b5",
   "metadata": {},
   "outputs": [
    {
     "name": "stdout",
     "output_type": "stream",
     "text": [
      "finded words: 113\n",
      "finded words: 113\n"
     ]
    }
   ],
   "source": [
    "assert boyerMoore(my_book, 'Potter') == rabinKarp(my_book, 'Potter')"
   ]
  },
  {
   "cell_type": "markdown",
   "id": "19f752e2",
   "metadata": {},
   "source": [
    "На книге Гарри Поттера по проведенным тестам времени алгоритм **Бойера-Мура** оказывается быстрее в среднем в **3** раза"
   ]
  },
  {
   "cell_type": "code",
   "execution_count": 10,
   "id": "ebd9451a",
   "metadata": {},
   "outputs": [],
   "source": [
    "my_str = 'b '\n",
    "find_str = ''\n",
    "for i in range(1000000):\n",
    "    my_str += 'a'\n",
    "    find_str += 'a'"
   ]
  },
  {
   "cell_type": "code",
   "execution_count": 11,
   "id": "e31384e6",
   "metadata": {},
   "outputs": [
    {
     "name": "stdout",
     "output_type": "stream",
     "text": [
      "finded words: 1\n",
      "CPU times: user 339 ms, sys: 8.98 ms, total: 348 ms\n",
      "Wall time: 449 ms\n"
     ]
    },
    {
     "data": {
      "text/plain": [
       "[2]"
      ]
     },
     "execution_count": 11,
     "metadata": {},
     "output_type": "execute_result"
    }
   ],
   "source": [
    "%%time\n",
    "boyerMoore(my_str, find_str)"
   ]
  },
  {
   "cell_type": "code",
   "execution_count": 12,
   "id": "60574f0c",
   "metadata": {},
   "outputs": [
    {
     "name": "stdout",
     "output_type": "stream",
     "text": [
      "finded words: 1\n",
      "CPU times: user 4.22 ms, sys: 11 µs, total: 4.24 ms\n",
      "Wall time: 5.02 ms\n"
     ]
    },
    {
     "data": {
      "text/plain": [
       "[2]"
      ]
     },
     "execution_count": 12,
     "metadata": {},
     "output_type": "execute_result"
    }
   ],
   "source": [
    "%%time\n",
    "rabinKarp(my_str, find_str)"
   ]
  },
  {
   "cell_type": "markdown",
   "id": "2ebd6c2b",
   "metadata": {},
   "source": [
    "При поиске слова **'aaaa...a'** в строке **'baaaa...a'** алгоритм **Рабина-Карпа** оказывается быстрее в среднем в **100** раз"
   ]
  },
  {
   "cell_type": "code",
   "execution_count": 13,
   "id": "a978824e",
   "metadata": {},
   "outputs": [
    {
     "name": "stdout",
     "output_type": "stream",
     "text": [
      "finded words: 1\n",
      "CPU times: user 242 µs, sys: 20 µs, total: 262 µs\n",
      "Wall time: 254 µs\n"
     ]
    },
    {
     "data": {
      "text/plain": [
       "[0]"
      ]
     },
     "execution_count": 13,
     "metadata": {},
     "output_type": "execute_result"
    }
   ],
   "source": [
    "%%time\n",
    "rabinKarp(my_book, my_book)"
   ]
  },
  {
   "cell_type": "code",
   "execution_count": 14,
   "id": "fda666f4",
   "metadata": {},
   "outputs": [
    {
     "name": "stdout",
     "output_type": "stream",
     "text": [
      "finded words: 1\n",
      "CPU times: user 66.5 ms, sys: 81 µs, total: 66.6 ms\n",
      "Wall time: 89 ms\n"
     ]
    },
    {
     "data": {
      "text/plain": [
       "[0]"
      ]
     },
     "execution_count": 14,
     "metadata": {},
     "output_type": "execute_result"
    }
   ],
   "source": [
    "%%time\n",
    "boyerMoore(my_book, my_book)"
   ]
  },
  {
   "cell_type": "markdown",
   "id": "0f0722d4",
   "metadata": {},
   "source": [
    "При поиске книги в книге Гарри Поттера алгоритм **Рабина-Карпа** оказывается быстрее в среднем в **300** раз"
   ]
  }
 ],
 "metadata": {
  "celltoolbar": "Slideshow",
  "kernelspec": {
   "display_name": "Python 3 (ipykernel)",
   "language": "python",
   "name": "python3"
  },
  "language_info": {
   "codemirror_mode": {
    "name": "ipython",
    "version": 3
   },
   "file_extension": ".py",
   "mimetype": "text/x-python",
   "name": "python",
   "nbconvert_exporter": "python",
   "pygments_lexer": "ipython3",
   "version": "3.10.6"
  }
 },
 "nbformat": 4,
 "nbformat_minor": 5
}
