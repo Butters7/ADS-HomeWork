{
 "cells": [
  {
   "cell_type": "code",
   "execution_count": 2,
   "id": "a8be70c8",
   "metadata": {
    "slideshow": {
     "slide_type": "skip"
    }
   },
   "outputs": [],
   "source": [
    "from wand.image import Image as WImage"
   ]
  },
  {
   "cell_type": "markdown",
   "id": "d3d67758",
   "metadata": {
    "slideshow": {
     "slide_type": "slide"
    }
   },
   "source": [
    "# Лабораторная работа 3. Инеративные и рекурсивные алгоритмы\n",
    "\n",
    "**Цель работы:** изучить рекурсивные алгоритмы и рекурсивные структуры данных; научиться проводить анализ итеративных и рекурсивных процедур; исследовать эффективность итеративных и  рекурсивных процедур при реализации на ПЭВМ.\n",
    "\n",
    "**Продолжительность работы:** - 4 часа. \n",
    "\n",
    "**Мягкий дедлайн (10 баллов)**: 15.04.2023 \n",
    "\n",
    "**Жесткий дедлайн (5 баллов)**: 29.04.2023\n",
    "\n"
   ]
  },
  {
   "cell_type": "markdown",
   "id": "6a64dda7",
   "metadata": {
    "slideshow": {
     "slide_type": "slide"
    }
   },
   "source": [
    "## Теоретические сведения\n",
    "\n"
   ]
  },
  {
   "cell_type": "markdown",
   "id": "11bddc85",
   "metadata": {
    "slideshow": {
     "slide_type": "slide"
    }
   },
   "source": [
    "### Классификация алгоритмов"
   ]
  },
  {
   "cell_type": "markdown",
   "id": "82a14500",
   "metadata": {
    "slideshow": {
     "slide_type": "fragment"
    }
   },
   "source": []
  },
  {
   "cell_type": "markdown",
   "id": "f3bd251c",
   "metadata": {},
   "source": [
    "## Варианты заданий\n",
    "\n"
   ]
  },
  {
   "cell_type": "markdown",
   "id": "3d264181",
   "metadata": {},
   "source": [
    "## Литература\n",
    "\n",
    "Дональд Э. Кнут. Искусство программирования, том 2. Получисленные алгоритмы = The Art of Computer Programming, vol.2. Seminumerical Algorithms, 3-ed. — Вильямс, 2007. — С. 832. — ISBN 978-5-8459-0081-4.\n",
    "\n",
    "Роберт Седжвик. Фундаментальные алгоритмы на C. Анализ/Структуры данных/Сортировка/Поиск = Algorithms in C. Fundamentals/Data Structures/Sorting/Searching. — СПб.: ДиаСофтЮП, 2003. — С. 672. — ISBN 5-93772-081-4."
   ]
  }
 ],
 "metadata": {
  "celltoolbar": "Slideshow",
  "kernelspec": {
   "display_name": "Python 3 (ipykernel)",
   "language": "python",
   "name": "python3"
  },
  "language_info": {
   "codemirror_mode": {
    "name": "ipython",
    "version": 3
   },
   "file_extension": ".py",
   "mimetype": "text/x-python",
   "name": "python",
   "nbconvert_exporter": "python",
   "pygments_lexer": "ipython3",
   "version": "3.11.2"
  }
 },
 "nbformat": 4,
 "nbformat_minor": 5
}
